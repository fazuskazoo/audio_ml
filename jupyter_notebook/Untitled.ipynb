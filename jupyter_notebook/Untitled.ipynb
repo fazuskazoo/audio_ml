{
 "cells": [
  {
   "cell_type": "code",
   "execution_count": 1,
   "id": "15cfa105",
   "metadata": {},
   "outputs": [],
   "source": [
    "\n"
   ]
  },
  {
   "cell_type": "code",
   "execution_count": 2,
   "id": "d2b753aa",
   "metadata": {},
   "outputs": [
    {
     "name": "stdout",
     "output_type": "stream",
     "text": [
      "/home/bilbo/dev/python/audio_ml/.venv/bin/pip\r\n"
     ]
    }
   ],
   "source": [
    "!which pip"
   ]
  },
  {
   "cell_type": "code",
   "execution_count": 3,
   "id": "84109ff0",
   "metadata": {},
   "outputs": [
    {
     "name": "stdout",
     "output_type": "stream",
     "text": [
      "Name: pydub\r\n",
      "Version: 0.25.1\r\n",
      "Summary: Manipulate audio with an simple and easy high level interface\r\n",
      "Home-page: http://pydub.com\r\n",
      "Author: James Robert\r\n",
      "Author-email: jiaaro@gmail.com\r\n",
      "License: MIT\r\n",
      "Location: /home/bilbo/dev/python/DeepLearningForAudioWithPython/venv/lib/python3.10/site-packages\r\n",
      "Requires: \r\n",
      "Required-by: \r\n"
     ]
    }
   ],
   "source": [
    "!pip show pydub"
   ]
  },
  {
   "cell_type": "code",
   "execution_count": 4,
   "id": "097fb506",
   "metadata": {},
   "outputs": [],
   "source": [
    "import pydub\n",
    "from pydub import AudioSegment"
   ]
  },
  {
   "cell_type": "code",
   "execution_count": 5,
   "id": "14065989",
   "metadata": {},
   "outputs": [],
   "source": [
    "import librosa"
   ]
  },
  {
   "cell_type": "code",
   "execution_count": 6,
   "id": "2c2e1df4",
   "metadata": {},
   "outputs": [],
   "source": [
    "import os\n",
    "import numpy as np\n",
    "import librosa\n",
    "import librosa.display\n",
    "import soundfile as sf  # Missing import\n",
    "\n"
   ]
  },
  {
   "cell_type": "code",
   "execution_count": 7,
   "id": "c4938608",
   "metadata": {},
   "outputs": [],
   "source": [
    "audio_dir = \"/home/bilbo/dev/misc_audio\"\n",
    "\n",
    "out_dir = \"/home/bilbo/dev/misc_audio/inagural_splits\"\n",
    "os.makedirs(out_dir, exist_ok=True)\n",
    "\n",
    "audio_file = os.path.join(audio_dir, 'President_Biden_Inauguration_address.wav')\n",
    "\n",
    "wave, sr = librosa.load(audio_file, sr=None) "
   ]
  },
  {
   "cell_type": "code",
   "execution_count": 8,
   "id": "3d44b8c3",
   "metadata": {},
   "outputs": [],
   "source": [
    "segment_dur_secs = 1  \n",
    "segment_length = sr * segment_dur_secs"
   ]
  },
  {
   "cell_type": "code",
   "execution_count": 9,
   "id": "725d52fc",
   "metadata": {},
   "outputs": [],
   "source": [
    "num_sections = int(np.ceil(len(wave) / segment_length))\n",
    "\n",
    "split = []\n",
    "\n",
    "for i in range(num_sections):\n",
    "    t = wave[i * segment_length: (i + 1) * segment_length]\n",
    "    split.append(t)\n",
    "\n",
    "for i in range(num_sections):\n",
    "    recording_name = os.path.basename(audio_file[:-4])\n",
    "    out_file = f\"{recording_name}_{str(i)}.wav\"\n",
    "    sf.write(os.path.join(out_dir, out_file), split[i], sr)"
   ]
  },
  {
   "cell_type": "code",
   "execution_count": 13,
   "id": "1522e22b",
   "metadata": {},
   "outputs": [],
   "source": [
    "from pydub.playback import play\n",
    "\n",
    "filename = 'myfile.wav'\n",
    "wave_file =  os.path.join(out_dir, \"President_Biden_Inauguration_address_9.wav\")\n",
    "sound = AudioSegment.from_wav(wave_file)\n"
   ]
  },
  {
   "cell_type": "code",
   "execution_count": 17,
   "id": "aee1e931",
   "metadata": {},
   "outputs": [
    {
     "name": "stderr",
     "output_type": "stream",
     "text": [
      "Input #0, wav, from '/tmp/tmpx5j1rdf_.wav':   0KB sq=    0B f=0/0   \n",
      "  Duration: 00:00:01.00, bitrate: 705 kb/s\n",
      "  Stream #0:0: Audio: pcm_s16le ([1][0][0][0] / 0x0001), 44100 Hz, 1 channels, s16, 705 kb/s\n",
      "   0.91 M-A: -0.000 fd=   0 aq=    0KB vq=    0KB sq=    0B f=0/0   \r"
     ]
    },
    {
     "name": "stdout",
     "output_type": "stream",
     "text": [
      "\n"
     ]
    },
    {
     "name": "stderr",
     "output_type": "stream",
     "text": [
      "   0.95 M-A:  0.000 fd=   0 aq=    0KB vq=    0KB sq=    0B f=0/0   \r"
     ]
    }
   ],
   "source": [
    "play(sound)"
   ]
  },
  {
   "cell_type": "code",
   "execution_count": null,
   "id": "d7ccd8e2",
   "metadata": {},
   "outputs": [],
   "source": []
  }
 ],
 "metadata": {
  "kernelspec": {
   "display_name": "Python 3 (ipykernel)",
   "language": "python",
   "name": "python3"
  },
  "language_info": {
   "codemirror_mode": {
    "name": "ipython",
    "version": 3
   },
   "file_extension": ".py",
   "mimetype": "text/x-python",
   "name": "python",
   "nbconvert_exporter": "python",
   "pygments_lexer": "ipython3",
   "version": "3.10.6"
  }
 },
 "nbformat": 4,
 "nbformat_minor": 5
}
