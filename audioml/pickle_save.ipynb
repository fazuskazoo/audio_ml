{
 "cells": [
  {
   "cell_type": "code",
   "execution_count": 43,
   "id": "c341a5bd",
   "metadata": {},
   "outputs": [],
   "source": [
    "import pickle\n",
    "import pandas as pd\n",
    "from sklearn.metrics import classification_report\n",
    "from sklearn import metrics"
   ]
  },
  {
   "cell_type": "code",
   "execution_count": 44,
   "id": "d30bf0f1",
   "metadata": {},
   "outputs": [],
   "source": [
    "from sklearn.metrics import confusion_matrix"
   ]
  },
  {
   "cell_type": "code",
   "execution_count": 9,
   "id": "17e1effc",
   "metadata": {},
   "outputs": [],
   "source": []
  },
  {
   "cell_type": "code",
   "execution_count": 10,
   "id": "18153498",
   "metadata": {},
   "outputs": [],
   "source": []
  },
  {
   "cell_type": "code",
   "execution_count": 11,
   "id": "38f43b04",
   "metadata": {},
   "outputs": [
    {
     "data": {
      "text/plain": [
       "'a string'"
      ]
     },
     "execution_count": 11,
     "metadata": {},
     "output_type": "execute_result"
    }
   ],
   "source": []
  },
  {
   "cell_type": "code",
   "execution_count": 45,
   "id": "b1fd3a77",
   "metadata": {},
   "outputs": [],
   "source": [
    "model = pickle.load(open('data/classification.model', 'rb'))"
   ]
  },
  {
   "cell_type": "code",
   "execution_count": 46,
   "id": "dc2c9223",
   "metadata": {},
   "outputs": [],
   "source": [
    "y_test = pickle.load(open('data/y_test', 'rb'))"
   ]
  },
  {
   "cell_type": "code",
   "execution_count": 47,
   "id": "d0ab9c61",
   "metadata": {},
   "outputs": [],
   "source": [
    "X_test = pickle.load(open('data/X_test', 'rb'))"
   ]
  },
  {
   "cell_type": "code",
   "execution_count": 20,
   "id": "9298b751",
   "metadata": {},
   "outputs": [],
   "source": [
    "#X_test_one = X_test.reshape(-1,1)"
   ]
  },
  {
   "cell_type": "code",
   "execution_count": 48,
   "id": "34780ed4",
   "metadata": {},
   "outputs": [
    {
     "name": "stdout",
     "output_type": "stream",
     "text": [
      "34/34 [==============================] - 4s 87ms/step\n"
     ]
    }
   ],
   "source": [
    "y_pred = model.predict(X_test)"
   ]
  },
  {
   "cell_type": "code",
   "execution_count": 49,
   "id": "44f2ec23",
   "metadata": {},
   "outputs": [],
   "source": [
    "def get_preds(y_pred):\n",
    "    preds = []\n",
    "    for i in range(0,len(y_pred)):\n",
    "        max_p = -1\n",
    "        max_i = -1\n",
    "        for index, prob in enumerate(y_pred[i]):\n",
    "            if prob > max_p:\n",
    "                max_p = prob\n",
    "                max_i = index\n",
    "        preds.append(max_i)\n",
    "    return preds\n"
   ]
  },
  {
   "cell_type": "code",
   "execution_count": 50,
   "id": "ac5c4b2b",
   "metadata": {},
   "outputs": [],
   "source": [
    "y_preds = get_preds(y_pred)\n"
   ]
  },
  {
   "cell_type": "code",
   "execution_count": 27,
   "id": "b9354f37",
   "metadata": {},
   "outputs": [
    {
     "data": {
      "text/plain": [
       "list"
      ]
     },
     "execution_count": 27,
     "metadata": {},
     "output_type": "execute_result"
    }
   ],
   "source": []
  },
  {
   "cell_type": "code",
   "execution_count": 51,
   "id": "27a5920c",
   "metadata": {},
   "outputs": [],
   "source": [
    "cr = classification_report(y_test, y_preds)"
   ]
  },
  {
   "cell_type": "code",
   "execution_count": 52,
   "id": "7f5799b9",
   "metadata": {},
   "outputs": [
    {
     "name": "stdout",
     "output_type": "stream",
     "text": [
      "              precision    recall  f1-score   support\n",
      "\n",
      "           0       0.94      0.95      0.94        95\n",
      "           1       0.95      0.98      0.96       130\n",
      "           2       0.95      0.97      0.96        59\n",
      "           3       0.95      0.96      0.95        94\n",
      "           4       0.98      0.97      0.97        95\n",
      "           5       0.98      0.96      0.97       113\n",
      "           6       0.97      0.95      0.96        75\n",
      "           7       0.97      0.97      0.97       120\n",
      "           8       0.94      0.88      0.91        52\n",
      "           9       1.00      0.99      1.00       136\n",
      "          10       0.97      0.98      0.97       116\n",
      "\n",
      "    accuracy                           0.97      1085\n",
      "   macro avg       0.96      0.96      0.96      1085\n",
      "weighted avg       0.97      0.97      0.97      1085\n",
      "\n"
     ]
    }
   ],
   "source": [
    "print(cr)"
   ]
  },
  {
   "cell_type": "code",
   "execution_count": 53,
   "id": "ae7172c6",
   "metadata": {},
   "outputs": [
    {
     "name": "stdout",
     "output_type": "stream",
     "text": [
      "Accuracy: 0.9658986175115207\n"
     ]
    }
   ],
   "source": [
    "print(\"Accuracy:\", metrics.accuracy_score(y_test, y_preds))\n"
   ]
  },
  {
   "cell_type": "code",
   "execution_count": 54,
   "id": "d88ff819",
   "metadata": {
    "scrolled": true
   },
   "outputs": [
    {
     "name": "stdout",
     "output_type": "stream",
     "text": [
      "Precision: 0.9632559041968315\n"
     ]
    }
   ],
   "source": [
    "print(\"Precision:\", metrics.precision_score(y_test, y_preds,average='macro'))\n"
   ]
  },
  {
   "cell_type": "code",
   "execution_count": 55,
   "id": "67478084",
   "metadata": {},
   "outputs": [
    {
     "name": "stdout",
     "output_type": "stream",
     "text": [
      "Recall: 0.9602318686127199\n"
     ]
    }
   ],
   "source": [
    "print(\"Recall:\", metrics.recall_score(y_test, y_preds,average='macro'))"
   ]
  },
  {
   "cell_type": "code",
   "execution_count": 56,
   "id": "b2e01bb6",
   "metadata": {},
   "outputs": [
    {
     "name": "stdout",
     "output_type": "stream",
     "text": [
      "[[ 90   0   0   1   0   0   0   2   2   0   0]\n",
      " [  0 127   0   0   1   1   1   0   0   0   0]\n",
      " [  0   0  57   0   0   1   1   0   0   0   0]\n",
      " [  0   1   0  90   0   0   0   0   1   0   2]\n",
      " [  2   1   0   0  92   0   0   0   0   0   0]\n",
      " [  0   2   0   1   0 109   0   0   0   0   1]\n",
      " [  0   0   1   3   0   0  71   0   0   0   0]\n",
      " [  0   3   0   0   0   0   0 117   0   0   0]\n",
      " [  4   0   0   0   1   0   0   1  46   0   0]\n",
      " [  0   0   0   0   0   0   0   0   0 135   1]\n",
      " [  0   0   2   0   0   0   0   0   0   0 114]]\n"
     ]
    }
   ],
   "source": [
    "cf = confusion_matrix(y_test, y_preds)\n",
    "print(cf)"
   ]
  },
  {
   "cell_type": "code",
   "execution_count": 58,
   "id": "1f955964",
   "metadata": {},
   "outputs": [],
   "source": [
    "import json"
   ]
  },
  {
   "cell_type": "code",
   "execution_count": 61,
   "id": "15893ae0",
   "metadata": {},
   "outputs": [],
   "source": [
    "json_file = \"/home/bilbo/dev/python/audio_ml/audioml/data/speakers_11.json\""
   ]
  },
  {
   "cell_type": "code",
   "execution_count": 62,
   "id": "7d52b593",
   "metadata": {},
   "outputs": [],
   "source": [
    "with open(json_file, 'r') as f:\n",
    "    json_obj = json.load(f)"
   ]
  },
  {
   "cell_type": "code",
   "execution_count": 63,
   "id": "c26d9be0",
   "metadata": {},
   "outputs": [
    {
     "data": {
      "text/plain": [
       "dict_keys(['mapping', 'labels', 'mfcc'])"
      ]
     },
     "execution_count": 63,
     "metadata": {},
     "output_type": "execute_result"
    }
   ],
   "source": [
    "json_obj.keys()"
   ]
  },
  {
   "cell_type": "code",
   "execution_count": 66,
   "id": "24bdfb55",
   "metadata": {},
   "outputs": [],
   "source": [
    "import pandas as pd"
   ]
  },
  {
   "cell_type": "code",
   "execution_count": 78,
   "id": "4fdef899",
   "metadata": {},
   "outputs": [],
   "source": [
    "df = pd.read_json(json_file, orient=\"index\")"
   ]
  },
  {
   "cell_type": "code",
   "execution_count": 80,
   "id": "72f19e03",
   "metadata": {},
   "outputs": [],
   "source": [
    "df = df.T"
   ]
  },
  {
   "cell_type": "code",
   "execution_count": 81,
   "id": "b65a242f",
   "metadata": {},
   "outputs": [
    {
     "data": {
      "text/plain": [
       "Index(['mapping', 'labels', 'mfcc'], dtype='object')"
      ]
     },
     "execution_count": 81,
     "metadata": {},
     "output_type": "execute_result"
    }
   ],
   "source": [
    "df.columns"
   ]
  },
  {
   "cell_type": "code",
   "execution_count": 83,
   "id": "be821d57",
   "metadata": {},
   "outputs": [
    {
     "data": {
      "text/plain": [
       "0       m0005\n",
       "1       m0003\n",
       "2       f0002\n",
       "3       f0004\n",
       "4       m0002\n",
       "        ...  \n",
       "4333     None\n",
       "4334     None\n",
       "4335     None\n",
       "4336     None\n",
       "4337     None\n",
       "Name: mapping, Length: 4338, dtype: object"
      ]
     },
     "execution_count": 83,
     "metadata": {},
     "output_type": "execute_result"
    }
   ],
   "source": [
    "df['mapping']"
   ]
  },
  {
   "cell_type": "code",
   "execution_count": 96,
   "id": "56f29414",
   "metadata": {},
   "outputs": [
    {
     "data": {
      "text/html": [
       "<div>\n",
       "<style scoped>\n",
       "    .dataframe tbody tr th:only-of-type {\n",
       "        vertical-align: middle;\n",
       "    }\n",
       "\n",
       "    .dataframe tbody tr th {\n",
       "        vertical-align: top;\n",
       "    }\n",
       "\n",
       "    .dataframe thead th {\n",
       "        text-align: right;\n",
       "    }\n",
       "</style>\n",
       "<table border=\"1\" class=\"dataframe\">\n",
       "  <thead>\n",
       "    <tr style=\"text-align: right;\">\n",
       "      <th></th>\n",
       "      <th>mapping</th>\n",
       "      <th>mfcc</th>\n",
       "    </tr>\n",
       "    <tr>\n",
       "      <th>labels</th>\n",
       "      <th></th>\n",
       "      <th></th>\n",
       "    </tr>\n",
       "  </thead>\n",
       "  <tbody>\n",
       "    <tr>\n",
       "      <th>0</th>\n",
       "      <td>11</td>\n",
       "      <td>328</td>\n",
       "    </tr>\n",
       "    <tr>\n",
       "      <th>1</th>\n",
       "      <td>0</td>\n",
       "      <td>574</td>\n",
       "    </tr>\n",
       "    <tr>\n",
       "      <th>2</th>\n",
       "      <td>0</td>\n",
       "      <td>234</td>\n",
       "    </tr>\n",
       "    <tr>\n",
       "      <th>3</th>\n",
       "      <td>0</td>\n",
       "      <td>407</td>\n",
       "    </tr>\n",
       "    <tr>\n",
       "      <th>4</th>\n",
       "      <td>0</td>\n",
       "      <td>399</td>\n",
       "    </tr>\n",
       "    <tr>\n",
       "      <th>5</th>\n",
       "      <td>0</td>\n",
       "      <td>469</td>\n",
       "    </tr>\n",
       "    <tr>\n",
       "      <th>6</th>\n",
       "      <td>0</td>\n",
       "      <td>294</td>\n",
       "    </tr>\n",
       "    <tr>\n",
       "      <th>7</th>\n",
       "      <td>0</td>\n",
       "      <td>511</td>\n",
       "    </tr>\n",
       "    <tr>\n",
       "      <th>8</th>\n",
       "      <td>0</td>\n",
       "      <td>172</td>\n",
       "    </tr>\n",
       "    <tr>\n",
       "      <th>9</th>\n",
       "      <td>0</td>\n",
       "      <td>479</td>\n",
       "    </tr>\n",
       "    <tr>\n",
       "      <th>10</th>\n",
       "      <td>0</td>\n",
       "      <td>471</td>\n",
       "    </tr>\n",
       "  </tbody>\n",
       "</table>\n",
       "</div>"
      ],
      "text/plain": [
       "        mapping  mfcc\n",
       "labels               \n",
       "0            11   328\n",
       "1             0   574\n",
       "2             0   234\n",
       "3             0   407\n",
       "4             0   399\n",
       "5             0   469\n",
       "6             0   294\n",
       "7             0   511\n",
       "8             0   172\n",
       "9             0   479\n",
       "10            0   471"
      ]
     },
     "execution_count": 96,
     "metadata": {},
     "output_type": "execute_result"
    }
   ],
   "source": [
    "df.groupby('labels').count()"
   ]
  },
  {
   "cell_type": "code",
   "execution_count": 97,
   "id": "6b8702aa",
   "metadata": {},
   "outputs": [
    {
     "data": {
      "text/plain": [
       "1     574\n",
       "7     511\n",
       "9     479\n",
       "10    471\n",
       "5     469\n",
       "3     407\n",
       "4     399\n",
       "0     328\n",
       "6     294\n",
       "2     234\n",
       "8     172\n",
       "Name: labels, dtype: int64"
      ]
     },
     "execution_count": 97,
     "metadata": {},
     "output_type": "execute_result"
    }
   ],
   "source": [
    "df.labels.value_counts()"
   ]
  },
  {
   "cell_type": "code",
   "execution_count": null,
   "id": "04de4be4",
   "metadata": {},
   "outputs": [],
   "source": []
  }
 ],
 "metadata": {
  "kernelspec": {
   "display_name": "Python 3 (ipykernel)",
   "language": "python",
   "name": "python3"
  },
  "language_info": {
   "codemirror_mode": {
    "name": "ipython",
    "version": 3
   },
   "file_extension": ".py",
   "mimetype": "text/x-python",
   "name": "python",
   "nbconvert_exporter": "python",
   "pygments_lexer": "ipython3",
   "version": "3.10.6"
  }
 },
 "nbformat": 4,
 "nbformat_minor": 5
}
