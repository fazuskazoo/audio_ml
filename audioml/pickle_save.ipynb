{
 "cells": [
  {
   "cell_type": "code",
   "execution_count": 1,
   "id": "c341a5bd",
   "metadata": {},
   "outputs": [],
   "source": [
    "import pickle\n",
    "import pandas as pd\n",
    "from sklearn.metrics import classification_report\n",
    "from sklearn import metrics"
   ]
  },
  {
   "cell_type": "code",
   "execution_count": 2,
   "id": "d30bf0f1",
   "metadata": {},
   "outputs": [],
   "source": [
    "s = \"a string\""
   ]
  },
  {
   "cell_type": "code",
   "execution_count": 3,
   "id": "17e1effc",
   "metadata": {},
   "outputs": [],
   "source": [
    "pickle.dump(s,open('string.obj', 'wb'))"
   ]
  },
  {
   "cell_type": "code",
   "execution_count": 7,
   "id": "18153498",
   "metadata": {},
   "outputs": [],
   "source": [
    "str_obj = pickle.load(open('string.obj', 'rb'))"
   ]
  },
  {
   "cell_type": "code",
   "execution_count": 8,
   "id": "38f43b04",
   "metadata": {},
   "outputs": [
    {
     "data": {
      "text/plain": [
       "'a string'"
      ]
     },
     "execution_count": 8,
     "metadata": {},
     "output_type": "execute_result"
    }
   ],
   "source": [
    "str_obj"
   ]
  },
  {
   "cell_type": "code",
   "execution_count": 50,
   "id": "b1fd3a77",
   "metadata": {},
   "outputs": [
    {
     "name": "stdout",
     "output_type": "stream",
     "text": [
      "Keras model archive loading:\n",
      "File Name                                             Modified             Size\n",
      "variables.h5                                   2023-01-07 20:00:42       728768\n",
      "config.json                                    2023-01-07 20:00:42         3647\n",
      "metadata.json                                  2023-01-07 20:00:42           64\n",
      "Keras weights file (<HDF5 file \"variables.h5\" (mode r)>) loading:\n",
      "...layers\n",
      "......dense\n",
      ".........vars\n",
      "............0\n",
      "............1\n",
      "......dense_1\n",
      ".........vars\n",
      "............0\n",
      "............1\n",
      "......dropout\n",
      ".........vars\n",
      "......lstm\n",
      ".........cell\n",
      "............vars\n",
      "...............0\n",
      "...............1\n",
      "...............2\n",
      ".........vars\n",
      "......lstm_1\n",
      ".........cell\n",
      "............vars\n",
      "...............0\n",
      "...............1\n",
      "...............2\n",
      ".........vars\n",
      "...metrics\n",
      "......mean\n",
      ".........vars\n",
      "............0\n",
      "............1\n",
      "......mean_metric_wrapper\n",
      ".........vars\n",
      "............0\n",
      "............1\n",
      "...optimizer\n",
      "......vars\n",
      ".........0\n",
      ".........1\n",
      ".........10\n",
      ".........11\n",
      ".........12\n",
      ".........13\n",
      ".........14\n",
      ".........15\n",
      ".........16\n",
      ".........17\n",
      ".........18\n",
      ".........19\n",
      ".........2\n",
      ".........20\n",
      ".........3\n",
      ".........4\n",
      ".........5\n",
      ".........6\n",
      ".........7\n",
      ".........8\n",
      ".........9\n",
      "...vars\n"
     ]
    }
   ],
   "source": [
    "model = pickle.load(open('/home/bilbo/dev/python/DeepLearningForAudioWithPython/models/classification.model', 'rb'))"
   ]
  },
  {
   "cell_type": "code",
   "execution_count": 40,
   "id": "dc2c9223",
   "metadata": {},
   "outputs": [],
   "source": [
    "y_test = pickle.load(open('/home/bilbo/dev/python/DeepLearningForAudioWithPython/models/y_test', 'rb'))"
   ]
  },
  {
   "cell_type": "code",
   "execution_count": 41,
   "id": "d0ab9c61",
   "metadata": {},
   "outputs": [],
   "source": [
    "X_test = pickle.load(open('/home/bilbo/dev/python/DeepLearningForAudioWithPython/models/X_test', 'rb'))"
   ]
  },
  {
   "cell_type": "code",
   "execution_count": 42,
   "id": "9298b751",
   "metadata": {},
   "outputs": [],
   "source": [
    "X_test_one = X_test.reshape(-1,1)"
   ]
  },
  {
   "cell_type": "code",
   "execution_count": 43,
   "id": "34780ed4",
   "metadata": {},
   "outputs": [
    {
     "name": "stdout",
     "output_type": "stream",
     "text": [
      "31/31 [==============================] - 3s 53ms/step\n"
     ]
    }
   ],
   "source": [
    "y_pred = model.predict(X_test)"
   ]
  },
  {
   "cell_type": "code",
   "execution_count": 9,
   "id": "c8cfb7ef",
   "metadata": {},
   "outputs": [],
   "source": [
    "#help(model.predict)"
   ]
  },
  {
   "cell_type": "code",
   "execution_count": null,
   "id": "82a4a151",
   "metadata": {},
   "outputs": [],
   "source": []
  },
  {
   "cell_type": "code",
   "execution_count": 10,
   "id": "0672155f",
   "metadata": {},
   "outputs": [],
   "source": [
    "#y_pred"
   ]
  },
  {
   "cell_type": "code",
   "execution_count": 11,
   "id": "c4b97eb4",
   "metadata": {},
   "outputs": [],
   "source": [
    "#y_test"
   ]
  },
  {
   "cell_type": "code",
   "execution_count": 32,
   "id": "04624a25",
   "metadata": {},
   "outputs": [
    {
     "data": {
      "text/plain": [
       "(965, 10)"
      ]
     },
     "execution_count": 32,
     "metadata": {},
     "output_type": "execute_result"
    }
   ],
   "source": [
    "y_pred.shape"
   ]
  },
  {
   "cell_type": "code",
   "execution_count": 33,
   "id": "44f2ec23",
   "metadata": {},
   "outputs": [],
   "source": [
    "def get_preds(y_pred):\n",
    "    preds = []\n",
    "    for i in range(0,len(y_pred)):\n",
    "        max_p = -1\n",
    "        max_i = -1\n",
    "        for index, prob in enumerate(y_pred[i]):\n",
    "            if prob > max_p:\n",
    "                max_p = prob\n",
    "                max_i = index\n",
    "        preds.append(max_i)\n",
    "    return preds\n"
   ]
  },
  {
   "cell_type": "code",
   "execution_count": 44,
   "id": "ac5c4b2b",
   "metadata": {},
   "outputs": [],
   "source": [
    "y_preds = get_preds(y_pred)"
   ]
  },
  {
   "cell_type": "code",
   "execution_count": 45,
   "id": "27a5920c",
   "metadata": {},
   "outputs": [
    {
     "name": "stderr",
     "output_type": "stream",
     "text": [
      "/home/bilbo/dev/python/DeepLearningForAudioWithPython/venv/lib/python3.8/site-packages/sklearn/metrics/_classification.py:1344: UndefinedMetricWarning: Precision and F-score are ill-defined and being set to 0.0 in labels with no predicted samples. Use `zero_division` parameter to control this behavior.\n",
      "  _warn_prf(average, modifier, msg_start, len(result))\n",
      "/home/bilbo/dev/python/DeepLearningForAudioWithPython/venv/lib/python3.8/site-packages/sklearn/metrics/_classification.py:1344: UndefinedMetricWarning: Precision and F-score are ill-defined and being set to 0.0 in labels with no predicted samples. Use `zero_division` parameter to control this behavior.\n",
      "  _warn_prf(average, modifier, msg_start, len(result))\n",
      "/home/bilbo/dev/python/DeepLearningForAudioWithPython/venv/lib/python3.8/site-packages/sklearn/metrics/_classification.py:1344: UndefinedMetricWarning: Precision and F-score are ill-defined and being set to 0.0 in labels with no predicted samples. Use `zero_division` parameter to control this behavior.\n",
      "  _warn_prf(average, modifier, msg_start, len(result))\n"
     ]
    }
   ],
   "source": [
    "cr = classification_report(y_test, y_preds)"
   ]
  },
  {
   "cell_type": "code",
   "execution_count": 46,
   "id": "7f5799b9",
   "metadata": {},
   "outputs": [
    {
     "name": "stdout",
     "output_type": "stream",
     "text": [
      "              precision    recall  f1-score   support\n",
      "\n",
      "           0       0.49      0.88      0.63        94\n",
      "           1       0.00      0.00      0.00        56\n",
      "           2       0.36      0.09      0.14        45\n",
      "           3       0.61      0.96      0.75       146\n",
      "           4       0.58      0.06      0.11       120\n",
      "           5       0.00      0.00      0.00        81\n",
      "           6       0.39      0.85      0.54       125\n",
      "           7       0.70      0.75      0.72       100\n",
      "           8       0.00      0.00      0.00        71\n",
      "           9       0.48      0.64      0.55       127\n",
      "\n",
      "    accuracy                           0.51       965\n",
      "   macro avg       0.36      0.42      0.34       965\n",
      "weighted avg       0.42      0.51      0.41       965\n",
      "\n"
     ]
    }
   ],
   "source": [
    "print(cr)"
   ]
  },
  {
   "cell_type": "code",
   "execution_count": 47,
   "id": "ae7172c6",
   "metadata": {},
   "outputs": [
    {
     "name": "stdout",
     "output_type": "stream",
     "text": [
      "Accuracy: 0.5139896373056995\n"
     ]
    }
   ],
   "source": [
    "print(\"Accuracy:\", metrics.accuracy_score(y_test, y_preds))\n"
   ]
  },
  {
   "cell_type": "code",
   "execution_count": 48,
   "id": "d88ff819",
   "metadata": {
    "scrolled": true
   },
   "outputs": [
    {
     "name": "stdout",
     "output_type": "stream",
     "text": [
      "Precision: 0.3627799074218727\n"
     ]
    },
    {
     "name": "stderr",
     "output_type": "stream",
     "text": [
      "/home/bilbo/dev/python/DeepLearningForAudioWithPython/venv/lib/python3.8/site-packages/sklearn/metrics/_classification.py:1344: UndefinedMetricWarning: Precision is ill-defined and being set to 0.0 in labels with no predicted samples. Use `zero_division` parameter to control this behavior.\n",
      "  _warn_prf(average, modifier, msg_start, len(result))\n"
     ]
    }
   ],
   "source": [
    "print(\"Precision:\", metrics.precision_score(y_test, y_preds,average='macro'))\n"
   ]
  },
  {
   "cell_type": "code",
   "execution_count": 49,
   "id": "67478084",
   "metadata": {},
   "outputs": [
    {
     "name": "stdout",
     "output_type": "stream",
     "text": [
      "Recall: 0.42249003308060695\n"
     ]
    }
   ],
   "source": [
    "print(\"Recall:\", metrics.recall_score(y_test, y_preds,average='macro'))"
   ]
  },
  {
   "cell_type": "code",
   "execution_count": null,
   "id": "b2e01bb6",
   "metadata": {},
   "outputs": [],
   "source": []
  }
 ],
 "metadata": {
  "kernelspec": {
   "display_name": "Python 3 (ipykernel)",
   "language": "python",
   "name": "python3"
  },
  "language_info": {
   "codemirror_mode": {
    "name": "ipython",
    "version": 3
   },
   "file_extension": ".py",
   "mimetype": "text/x-python",
   "name": "python",
   "nbconvert_exporter": "python",
   "pygments_lexer": "ipython3",
   "version": "3.8.10"
  }
 },
 "nbformat": 4,
 "nbformat_minor": 5
}
