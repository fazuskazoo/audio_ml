{
 "cells": [
  {
   "cell_type": "code",
   "execution_count": 7,
   "id": "c341a5bd",
   "metadata": {},
   "outputs": [],
   "source": [
    "import pickle\n",
    "import pandas as pd\n",
    "from sklearn.metrics import classification_report\n",
    "from sklearn import metrics"
   ]
  },
  {
   "cell_type": "code",
   "execution_count": 8,
   "id": "d30bf0f1",
   "metadata": {},
   "outputs": [],
   "source": [
    "s = \"a string\""
   ]
  },
  {
   "cell_type": "code",
   "execution_count": 9,
   "id": "17e1effc",
   "metadata": {},
   "outputs": [],
   "source": [
    "pickle.dump(s,open('string.obj', 'wb'))"
   ]
  },
  {
   "cell_type": "code",
   "execution_count": 10,
   "id": "18153498",
   "metadata": {},
   "outputs": [],
   "source": [
    "str_obj = pickle.load(open('string.obj', 'rb'))"
   ]
  },
  {
   "cell_type": "code",
   "execution_count": 11,
   "id": "38f43b04",
   "metadata": {},
   "outputs": [
    {
     "data": {
      "text/plain": [
       "'a string'"
      ]
     },
     "execution_count": 11,
     "metadata": {},
     "output_type": "execute_result"
    }
   ],
   "source": [
    "str_obj"
   ]
  },
  {
   "cell_type": "code",
   "execution_count": 13,
   "id": "b1fd3a77",
   "metadata": {},
   "outputs": [],
   "source": [
    "model = pickle.load(open('data/classification.model', 'rb'))"
   ]
  },
  {
   "cell_type": "code",
   "execution_count": 16,
   "id": "dc2c9223",
   "metadata": {},
   "outputs": [],
   "source": [
    "y_test = pickle.load(open('data/y_test', 'rb'))"
   ]
  },
  {
   "cell_type": "code",
   "execution_count": 17,
   "id": "d0ab9c61",
   "metadata": {},
   "outputs": [],
   "source": [
    "X_test = pickle.load(open('data/X_test', 'rb'))"
   ]
  },
  {
   "cell_type": "code",
   "execution_count": 20,
   "id": "9298b751",
   "metadata": {},
   "outputs": [],
   "source": [
    "#X_test_one = X_test.reshape(-1,1)"
   ]
  },
  {
   "cell_type": "code",
   "execution_count": 19,
   "id": "34780ed4",
   "metadata": {},
   "outputs": [
    {
     "name": "stdout",
     "output_type": "stream",
     "text": [
      "31/31 [==============================] - 2s 42ms/step\n"
     ]
    }
   ],
   "source": [
    "y_pred = model.predict(X_test)"
   ]
  },
  {
   "cell_type": "code",
   "execution_count": null,
   "id": "c8cfb7ef",
   "metadata": {},
   "outputs": [],
   "source": [
    "#help(model.predict)"
   ]
  },
  {
   "cell_type": "code",
   "execution_count": null,
   "id": "82a4a151",
   "metadata": {},
   "outputs": [],
   "source": []
  },
  {
   "cell_type": "code",
   "execution_count": null,
   "id": "0672155f",
   "metadata": {},
   "outputs": [],
   "source": [
    "#y_pred"
   ]
  },
  {
   "cell_type": "code",
   "execution_count": null,
   "id": "c4b97eb4",
   "metadata": {},
   "outputs": [],
   "source": [
    "#y_test"
   ]
  },
  {
   "cell_type": "code",
   "execution_count": null,
   "id": "04624a25",
   "metadata": {},
   "outputs": [],
   "source": [
    "y_pred.shape"
   ]
  },
  {
   "cell_type": "code",
   "execution_count": null,
   "id": "44f2ec23",
   "metadata": {},
   "outputs": [],
   "source": [
    "def get_preds(y_pred):\n",
    "    preds = []\n",
    "    for i in range(0,len(y_pred)):\n",
    "        max_p = -1\n",
    "        max_i = -1\n",
    "        for index, prob in enumerate(y_pred[i]):\n",
    "            if prob > max_p:\n",
    "                max_p = prob\n",
    "                max_i = index\n",
    "        preds.append(max_i)\n",
    "    return preds\n"
   ]
  },
  {
   "cell_type": "code",
   "execution_count": null,
   "id": "ac5c4b2b",
   "metadata": {},
   "outputs": [],
   "source": [
    "y_preds = get_preds(y_pred)"
   ]
  },
  {
   "cell_type": "code",
   "execution_count": null,
   "id": "27a5920c",
   "metadata": {},
   "outputs": [],
   "source": [
    "cr = classification_report(y_test, y_preds)"
   ]
  },
  {
   "cell_type": "code",
   "execution_count": null,
   "id": "7f5799b9",
   "metadata": {},
   "outputs": [],
   "source": [
    "print(cr)"
   ]
  },
  {
   "cell_type": "code",
   "execution_count": null,
   "id": "ae7172c6",
   "metadata": {},
   "outputs": [],
   "source": [
    "print(\"Accuracy:\", metrics.accuracy_score(y_test, y_preds))\n"
   ]
  },
  {
   "cell_type": "code",
   "execution_count": null,
   "id": "d88ff819",
   "metadata": {
    "scrolled": true
   },
   "outputs": [],
   "source": [
    "print(\"Precision:\", metrics.precision_score(y_test, y_preds,average='macro'))\n"
   ]
  },
  {
   "cell_type": "code",
   "execution_count": null,
   "id": "67478084",
   "metadata": {},
   "outputs": [],
   "source": [
    "print(\"Recall:\", metrics.recall_score(y_test, y_preds,average='macro'))"
   ]
  },
  {
   "cell_type": "code",
   "execution_count": null,
   "id": "b2e01bb6",
   "metadata": {},
   "outputs": [],
   "source": []
  }
 ],
 "metadata": {
  "kernelspec": {
   "display_name": "Python 3 (ipykernel)",
   "language": "python",
   "name": "python3"
  },
  "language_info": {
   "codemirror_mode": {
    "name": "ipython",
    "version": 3
   },
   "file_extension": ".py",
   "mimetype": "text/x-python",
   "name": "python",
   "nbconvert_exporter": "python",
   "pygments_lexer": "ipython3",
   "version": "3.10.6"
  }
 },
 "nbformat": 4,
 "nbformat_minor": 5
}
